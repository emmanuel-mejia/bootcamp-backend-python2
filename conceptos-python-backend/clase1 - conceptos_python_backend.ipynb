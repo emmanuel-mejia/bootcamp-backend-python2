{
  "cells": [
    {
      "cell_type": "markdown",
      "id": "2a0b777d-fedc-4110-b537-4a8ea3cf725c",
      "metadata": {
        "id": "2a0b777d-fedc-4110-b537-4a8ea3cf725c"
      },
      "source": [
        "# Bootcamp Backend con Python V2"
      ]
    },
    {
      "cell_type": "markdown",
      "id": "e358065b-ca44-4871-a3a9-c4161f0b7d7f",
      "metadata": {
        "id": "e358065b-ca44-4871-a3a9-c4161f0b7d7f"
      },
      "source": [
        "## Clase 1: Conceptos de Python para el Backend\n",
        "## ¿Qué son los decoradores?\n",
        "Son un patrón de diseño en Python que permite agregar funcionalidades a un objeto existente (funciones) sin modificar su estructura."
      ]
    },
    {
      "cell_type": "code",
      "execution_count": null,
      "id": "4677d9bd-40bc-46e8-9a6d-952b1765fead",
      "metadata": {
        "id": "4677d9bd-40bc-46e8-9a6d-952b1765fead"
      },
      "outputs": [],
      "source": [
        "#@example_decorator\n",
        "def test_function():\n",
        "    return \"output\""
      ]
    },
    {
      "cell_type": "markdown",
      "id": "8dde72b0-9ae9-4941-84ca-0d6cf6118df5",
      "metadata": {
        "id": "8dde72b0-9ae9-4941-84ca-0d6cf6118df5"
      },
      "source": [
        "### Cómo trabajan las funciones\n",
        "Las funciones son muy importantes en Python y estas retornan un valor de acuerdo a los argumentos que les pasamos:"
      ]
    },
    {
      "cell_type": "code",
      "execution_count": null,
      "id": "3a1c464b-bffb-42d1-ae3e-9a4d929dbb3c",
      "metadata": {
        "id": "3a1c464b-bffb-42d1-ae3e-9a4d929dbb3c",
        "outputId": "29eeb1a5-b28b-4200-8767-cc07b26d64f4"
      },
      "outputs": [
        {
          "data": {
            "text/plain": [
              "9"
            ]
          },
          "execution_count": 2,
          "metadata": {},
          "output_type": "execute_result"
        }
      ],
      "source": [
        "def plus_one(number):\n",
        "    return number + 1\n",
        "plus_one(8)"
      ]
    },
    {
      "cell_type": "markdown",
      "id": "cb216805-520a-44bf-8274-20ccf031f311",
      "metadata": {
        "id": "cb216805-520a-44bf-8274-20ccf031f311"
      },
      "source": [
        "### Asignando funciones a variables"
      ]
    },
    {
      "cell_type": "code",
      "execution_count": null,
      "id": "87b02332-cf15-4dbb-b546-3b4a980fb252",
      "metadata": {
        "id": "87b02332-cf15-4dbb-b546-3b4a980fb252",
        "outputId": "2e449782-2874-4287-d04b-c35d142203b0"
      },
      "outputs": [
        {
          "data": {
            "text/plain": [
              "6"
            ]
          },
          "execution_count": 3,
          "metadata": {},
          "output_type": "execute_result"
        }
      ],
      "source": [
        "def plus_one(number):\n",
        "    return number + 1\n",
        "\n",
        "add_one = plus_one\n",
        "add_one(5)"
      ]
    },
    {
      "cell_type": "markdown",
      "id": "06c9180e-7930-40d4-b105-c77c4464d345",
      "metadata": {
        "id": "06c9180e-7930-40d4-b105-c77c4464d345"
      },
      "source": [
        "### Definiendo funciones dentro de otras funciones"
      ]
    },
    {
      "cell_type": "code",
      "execution_count": null,
      "id": "9fad7220-4909-48b9-878a-e961980bcd79",
      "metadata": {
        "id": "9fad7220-4909-48b9-878a-e961980bcd79",
        "outputId": "c026e5c7-9d53-4d6f-da00-50fb376e5058"
      },
      "outputs": [
        {
          "name": "stdout",
          "output_type": "stream",
          "text": [
            "Executing plus_one\n",
            "Executing add_one\n"
          ]
        },
        {
          "data": {
            "text/plain": [
              "5"
            ]
          },
          "execution_count": 4,
          "metadata": {},
          "output_type": "execute_result"
        }
      ],
      "source": [
        "def plus_one(number):\n",
        "    def add_one(number):\n",
        "        print(\"Executing add_one\")\n",
        "        return number + 1\n",
        "\n",
        "    print(\"Executing plus_one\")\n",
        "    result = add_one(number)\n",
        "    return result\n",
        "\n",
        "plus_one(4)"
      ]
    },
    {
      "cell_type": "markdown",
      "id": "49b0ff8e-24da-471c-924f-bb49b31c8847",
      "metadata": {
        "id": "49b0ff8e-24da-471c-924f-bb49b31c8847"
      },
      "source": [
        "### Pasando funciones como argumentos de otras funciones"
      ]
    },
    {
      "cell_type": "code",
      "execution_count": null,
      "id": "04fa8559-8399-4433-95e5-4d315aa070d8",
      "metadata": {
        "id": "04fa8559-8399-4433-95e5-4d315aa070d8",
        "outputId": "712c68e6-232c-4fa2-9f93-e10947364bc8"
      },
      "outputs": [
        {
          "name": "stdout",
          "output_type": "stream",
          "text": [
            "Executing function_call\n",
            "Executing plus_one\n"
          ]
        },
        {
          "data": {
            "text/plain": [
              "6"
            ]
          },
          "execution_count": 5,
          "metadata": {},
          "output_type": "execute_result"
        }
      ],
      "source": [
        "def plus_one(number):\n",
        "    print(\"Executing plus_one\")\n",
        "    return number + 1\n",
        "\n",
        "def function_call(function):\n",
        "    print(\"Executing function_call\")\n",
        "    number_to_add = 5\n",
        "    return function(number_to_add)\n",
        "\n",
        "function_call(plus_one)"
      ]
    },
    {
      "cell_type": "markdown",
      "id": "a40504b8-ee18-450c-91a6-a08266adb18f",
      "metadata": {
        "id": "a40504b8-ee18-450c-91a6-a08266adb18f"
      },
      "source": [
        "### Funciones retornando otras funciones"
      ]
    },
    {
      "cell_type": "code",
      "execution_count": null,
      "id": "115df9ef-35c8-499b-8e28-05581ab91255",
      "metadata": {
        "id": "115df9ef-35c8-499b-8e28-05581ab91255",
        "outputId": "2760959c-cd52-4b71-dd19-c874b2ff3ea2"
      },
      "outputs": [
        {
          "name": "stdout",
          "output_type": "stream",
          "text": [
            "Executing hello_function\n",
            "Executing say_hi\n"
          ]
        },
        {
          "data": {
            "text/plain": [
              "'Hi'"
            ]
          },
          "execution_count": 6,
          "metadata": {},
          "output_type": "execute_result"
        }
      ],
      "source": [
        "def hello_function():\n",
        "    def say_hi():\n",
        "        print(\"Executing say_hi\")\n",
        "        return \"Hi\"\n",
        "    print(\"Executing hello_function\")\n",
        "    return say_hi\n",
        "\n",
        "hello = hello_function()\n",
        "hello()"
      ]
    },
    {
      "cell_type": "markdown",
      "id": "085557f2-bf9a-4bff-8c93-e7b5484b0c30",
      "metadata": {
        "id": "085557f2-bf9a-4bff-8c93-e7b5484b0c30"
      },
      "source": [
        "### Las funciones anidadas tienen acceso al las variables de la función envolvente"
      ]
    },
    {
      "cell_type": "code",
      "execution_count": null,
      "id": "2f692465-c106-4984-aafb-60f721f73b02",
      "metadata": {
        "id": "2f692465-c106-4984-aafb-60f721f73b02",
        "outputId": "b1c3481b-79ff-403e-c519-373d18bd9155"
      },
      "outputs": [
        {
          "name": "stdout",
          "output_type": "stream",
          "text": [
            "Some random message\n"
          ]
        }
      ],
      "source": [
        "def print_message(message):\n",
        "    \"\"\"Enclosing Function\"\"\"\n",
        "\n",
        "    def message_sender():\n",
        "        \"\"\"Nested Function\"\"\"\n",
        "\n",
        "        print(message)\n",
        "\n",
        "    message_sender()\n",
        "\n",
        "print_message(\"Some random message\")"
      ]
    },
    {
      "cell_type": "markdown",
      "id": "31c7d7c2-609a-48d4-b6dd-3563878a06ab",
      "metadata": {
        "id": "31c7d7c2-609a-48d4-b6dd-3563878a06ab"
      },
      "source": [
        "## Creando decoradores"
      ]
    },
    {
      "cell_type": "code",
      "execution_count": null,
      "id": "48188821-5c4a-4ff6-8b2f-c2adaf9fe29d",
      "metadata": {
        "id": "48188821-5c4a-4ff6-8b2f-c2adaf9fe29d",
        "outputId": "ddcc052c-34d3-43ed-df83-d8c72930ceb5"
      },
      "outputs": [
        {
          "name": "stdout",
          "output_type": "stream",
          "text": [
            "Something is happening before the function is called.\n",
            "Whee!\n",
            "Something is happening after the function is called.\n"
          ]
        }
      ],
      "source": [
        "def my_decorator(func):\n",
        "    def wrapper():\n",
        "        print(\"Something is happening before the function is called.\")\n",
        "        func()\n",
        "        print(\"Something is happening after the function is called.\")\n",
        "    return wrapper\n",
        "\n",
        "def say_whee():\n",
        "    print(\"Whee!\")\n",
        "\n",
        "say_whee = my_decorator(say_whee)\n",
        "say_whee()"
      ]
    },
    {
      "cell_type": "code",
      "execution_count": null,
      "id": "f26ee03e-1511-4cd6-b180-7ce795ab2329",
      "metadata": {
        "id": "f26ee03e-1511-4cd6-b180-7ce795ab2329",
        "outputId": "13fba11d-6a3b-4de4-d957-21953e0bde07"
      },
      "outputs": [
        {
          "name": "stdout",
          "output_type": "stream",
          "text": [
            "Something is happening before the function is called.\n",
            "Whee!\n",
            "Something is happening after the function is called.\n"
          ]
        }
      ],
      "source": [
        "def my_decorator(func):\n",
        "    def wrapper():\n",
        "        print(\"Something is happening before the function is called.\")\n",
        "        func()\n",
        "        print(\"Something is happening after the function is called.\")\n",
        "    return wrapper\n",
        "\n",
        "@my_decorator\n",
        "def say_whee():\n",
        "    print(\"Whee!\")\n",
        "\n",
        "say_whee()"
      ]
    },
    {
      "cell_type": "markdown",
      "id": "6e78cba9-84ea-4bba-b468-54c48f306df8",
      "metadata": {
        "id": "6e78cba9-84ea-4bba-b468-54c48f306df8"
      },
      "source": [
        "### Aplicando multiples decoradores a una misma función"
      ]
    },
    {
      "cell_type": "code",
      "execution_count": null,
      "id": "dd321755-d435-4da9-b211-a340dcb11c72",
      "metadata": {
        "id": "dd321755-d435-4da9-b211-a340dcb11c72"
      },
      "outputs": [],
      "source": [
        "def uppercase_decorator(function):\n",
        "    print(\"Applying uppercase decorator\")\n",
        "    def wrapper():\n",
        "        func = function()\n",
        "        make_uppercase = func.upper()\n",
        "        return make_uppercase\n",
        "\n",
        "    return wrapper"
      ]
    },
    {
      "cell_type": "code",
      "execution_count": null,
      "id": "6a935092-a4fd-4a7e-adad-8c539dbc6572",
      "metadata": {
        "id": "6a935092-a4fd-4a7e-adad-8c539dbc6572"
      },
      "outputs": [],
      "source": [
        "def split_string(function):\n",
        "    print(\"Applying split decorator\")\n",
        "    def wrapper():\n",
        "        func = function()\n",
        "        splitted_string = func.split()\n",
        "        return splitted_string\n",
        "\n",
        "    return wrapper"
      ]
    },
    {
      "cell_type": "code",
      "execution_count": null,
      "id": "a0f3ad5c-8617-43fe-9e4f-49b9ce486ddd",
      "metadata": {
        "id": "a0f3ad5c-8617-43fe-9e4f-49b9ce486ddd",
        "outputId": "518bbeb2-4ae0-45a6-c5f0-1c8e9a6d037f"
      },
      "outputs": [
        {
          "name": "stdout",
          "output_type": "stream",
          "text": [
            "Applying uppercase decorator\n",
            "Applying split decorator\n"
          ]
        },
        {
          "data": {
            "text/plain": [
              "['HELLO', 'THERE']"
            ]
          },
          "execution_count": 12,
          "metadata": {},
          "output_type": "execute_result"
        }
      ],
      "source": [
        "@split_string\n",
        "@uppercase_decorator\n",
        "def say_hi():\n",
        "    return 'hello there'\n",
        "say_hi()"
      ]
    },
    {
      "cell_type": "markdown",
      "id": "a49022f6-d17f-4b9e-b7f5-2cb09df3c051",
      "metadata": {
        "id": "a49022f6-d17f-4b9e-b7f5-2cb09df3c051"
      },
      "source": [
        "### Decorando funciones con argumentos"
      ]
    },
    {
      "cell_type": "code",
      "execution_count": null,
      "id": "5b0394e0-194d-4ee4-9d8e-d3e6af0259fb",
      "metadata": {
        "id": "5b0394e0-194d-4ee4-9d8e-d3e6af0259fb",
        "outputId": "dc0df2d1-4609-4e4e-c297-5d558678376d"
      },
      "outputs": [
        {
          "name": "stdout",
          "output_type": "stream",
          "text": [
            "My arguments are: Pereira, Medellín\n",
            "Cities I love are Pereira and Medellín\n"
          ]
        }
      ],
      "source": [
        "def decorator_with_arguments(function):\n",
        "    def wrapper_accepting_arguments(arg1, arg2):\n",
        "        print(f\"My arguments are: {arg1}, {arg2}\")\n",
        "        function(arg1, arg2)\n",
        "    return wrapper_accepting_arguments\n",
        "\n",
        "\n",
        "@decorator_with_arguments\n",
        "def cities(city_one, city_two):\n",
        "    print(f\"Cities I love are {city_one} and {city_two}\")\n",
        "\n",
        "cities(\"Pereira\", \"Medellín\")"
      ]
    },
    {
      "cell_type": "markdown",
      "id": "bb6a4ee5-d86a-4397-ad5e-8db9ef101252",
      "metadata": {
        "id": "bb6a4ee5-d86a-4397-ad5e-8db9ef101252"
      },
      "source": [
        "### Definiendo decoradores de propósito general"
      ]
    },
    {
      "cell_type": "code",
      "execution_count": null,
      "id": "20d65934-e1ba-4ab5-b935-afa1fb23cae0",
      "metadata": {
        "id": "20d65934-e1ba-4ab5-b935-afa1fb23cae0",
        "outputId": "9699d4b0-0837-41f9-c779-8d87b92bdaaf"
      },
      "outputs": [
        {
          "name": "stdout",
          "output_type": "stream",
          "text": [
            "Showing *args:\n",
            "Arguments of *args: (1, 2, 'Hola')\n",
            "Showing **kwargs:\n",
            "first_name = Carolina\n",
            "last_name = Gomez\n"
          ]
        }
      ],
      "source": [
        "def test_args_and_kwargs(*args, **kwargs):\n",
        "    print(\"Showing *args:\")\n",
        "    for arg in args:\n",
        "        print(\"Arguments of *args:\", arg)\n",
        "    print(\"Showing **kwargs:\")\n",
        "    for key, value in kwargs.items():\n",
        "        print(f\"{key} = {value}\")\n",
        "\n",
        "args = (1, 2, \"Hola\")\n",
        "kwargs = {\"first_name\": \"Carolina\", \"last_name\": \"Gomez\"}\n",
        "test_args_and_kwargs(args, **kwargs)"
      ]
    },
    {
      "cell_type": "code",
      "execution_count": null,
      "id": "ca1011ff-14ee-4db4-834c-c5d624a172f6",
      "metadata": {
        "id": "ca1011ff-14ee-4db4-834c-c5d624a172f6",
        "outputId": "f609e85f-4c6f-4def-ad4a-21425372fed9"
      },
      "outputs": [
        {
          "name": "stdout",
          "output_type": "stream",
          "text": [
            "The positional arguments are (1, 2, 3)\n",
            "The keyword arguments are {}\n",
            "1 2 3\n"
          ]
        }
      ],
      "source": [
        "def a_decorator_passing_arbitrary_arguments(function_to_decorate):\n",
        "    def a_wrapper_accepting_arbitrary_arguments(*args,**kwargs):\n",
        "        print('The positional arguments are', args)\n",
        "        print('The keyword arguments are', kwargs)\n",
        "        function_to_decorate(*args, **kwargs)\n",
        "    return a_wrapper_accepting_arbitrary_arguments\n",
        "\n",
        "@a_decorator_passing_arbitrary_arguments\n",
        "def function_with_arguments(a, b, c):\n",
        "    print(a, b, c)\n",
        "\n",
        "function_with_arguments(1,2,3)"
      ]
    },
    {
      "cell_type": "code",
      "execution_count": null,
      "id": "52b5b201-24f5-4e32-a85b-1bd55300107c",
      "metadata": {
        "id": "52b5b201-24f5-4e32-a85b-1bd55300107c",
        "outputId": "3ece192b-0ce5-48da-c0b9-d9b90ad9eb38"
      },
      "outputs": [
        {
          "name": "stdout",
          "output_type": "stream",
          "text": [
            "The positional arguments are ()\n",
            "The keyword arguments are {'first_name': 'Derrick', 'last_name': 'Mwiti'}\n",
            "This has shown keyword arguments: \n",
            "first_name: Derrick\n",
            "last_name: Mwiti\n",
            "country: Colombia\n"
          ]
        }
      ],
      "source": [
        "@a_decorator_passing_arbitrary_arguments\n",
        "def function_with_keyword_arguments(first_name=\"\", last_name=\"\", country=\"Colombia\"):\n",
        "    print(f\"This has shown keyword arguments: \")\n",
        "    print(f\"first_name: {first_name}\")\n",
        "    print(f\"last_name: {last_name}\")\n",
        "    print(f\"country: {country}\")\n",
        "\n",
        "function_with_keyword_arguments(first_name=\"Derrick\", last_name=\"Mwiti\")"
      ]
    },
    {
      "cell_type": "markdown",
      "id": "7827a857-ea7f-4c62-b7de-876d1773e901",
      "metadata": {
        "id": "7827a857-ea7f-4c62-b7de-876d1773e901"
      },
      "source": [
        "### Pasando argumentos al decorador"
      ]
    },
    {
      "cell_type": "code",
      "execution_count": null,
      "id": "0025540a-7789-467c-98d9-6f1d17b2616b",
      "metadata": {
        "id": "0025540a-7789-467c-98d9-6f1d17b2616b",
        "outputId": "50ad5cb5-8717-4d46-f919-a8822df511cc"
      },
      "outputs": [
        {
          "name": "stdout",
          "output_type": "stream",
          "text": [
            "The wrapper can access all the variables\n",
            "\t- from the decorator maker: Pandas Numpy Scikit-learn\n",
            "\t- from the function call: Pandas Science Tools\n",
            "and pass them to the decorated function\n",
            "This is the decorated function and it only knows about its arguments: \n",
            "Pandas Science Tools\n"
          ]
        }
      ],
      "source": [
        "def decorator_maker_with_arguments(decorator_arg1, decorator_arg2, decorator_arg3):\n",
        "    def decorator(func):\n",
        "        def wrapper(function_arg1, function_arg2, function_arg3) :\n",
        "            \"\"\"This is the wrapper function\"\"\"\n",
        "\n",
        "            print(f\"The wrapper can access all the variables\\n\"\n",
        "                  f\"\\t- from the decorator maker: {decorator_arg1} {decorator_arg2} {decorator_arg3}\\n\"\n",
        "                  f\"\\t- from the function call: {function_arg1} {function_arg2} {function_arg3}\\n\"\n",
        "                  f\"and pass them to the decorated function\")\n",
        "            return func(function_arg1, function_arg2, function_arg3)\n",
        "\n",
        "        return wrapper\n",
        "\n",
        "    return decorator\n",
        "\n",
        "pandas = \"Pandas\"\n",
        "@decorator_maker_with_arguments(pandas, \"Numpy\",\"Scikit-learn\")\n",
        "def decorated_function_with_arguments(function_arg1, function_arg2, function_arg3):\n",
        "    print(\"This is the decorated function and it only knows about its arguments: \")\n",
        "    print(f\"{function_arg1} {function_arg2} {function_arg3}\")\n",
        "\n",
        "decorated_function_with_arguments(pandas, \"Science\", \"Tools\")"
      ]
    },
    {
      "cell_type": "markdown",
      "id": "fe0bccc2-dcfd-4382-81b2-d91730806912",
      "metadata": {
        "id": "fe0bccc2-dcfd-4382-81b2-d91730806912"
      },
      "source": [
        "### Debugueando decoradores"
      ]
    },
    {
      "cell_type": "code",
      "execution_count": null,
      "id": "e9af96d0-0960-4e65-bbaa-1303312547f9",
      "metadata": {
        "id": "e9af96d0-0960-4e65-bbaa-1303312547f9",
        "outputId": "ae004501-9877-42f9-8b1c-17df06f0b655"
      },
      "outputs": [
        {
          "name": "stdout",
          "output_type": "stream",
          "text": [
            "Hi! You are happy!\n",
            "Function name: speak\n",
            "Function doc: Returns a neutral message\n",
            "Function name with decorator: wrapper\n",
            "Function doc with decorator: None\n"
          ]
        }
      ],
      "source": [
        "# decorator\n",
        "def make_geek_happy(func):\n",
        "    def wrapper():\n",
        "        neutral_message = func()\n",
        "        happy_message = neutral_message + \" You are happy!\"\n",
        "        return happy_message\n",
        "    return wrapper\n",
        "\n",
        "def speak():\n",
        "    \"\"\"Returns a neutral message\"\"\"\n",
        "    return \"Hi!\"\n",
        "\n",
        "\n",
        "# wrapping the function in the decorator\n",
        "# and assigning it to positive_message\n",
        "positive_message = make_geek_happy(speak)\n",
        "\n",
        "print(positive_message())\n",
        "\n",
        "print(f\"Function name: {speak.__name__}\")\n",
        "print(f\"Function doc: {speak.__doc__}\")\n",
        "print(f\"Function name with decorator: {positive_message.__name__}\")\n",
        "print(f\"Function doc with decorator: {positive_message.__doc__}\")"
      ]
    },
    {
      "cell_type": "code",
      "execution_count": null,
      "id": "211258b1-470b-4aec-9f93-c0b959a341e5",
      "metadata": {
        "id": "211258b1-470b-4aec-9f93-c0b959a341e5",
        "outputId": "422b513f-5982-408c-907a-3733405f02b9"
      },
      "outputs": [
        {
          "name": "stdout",
          "output_type": "stream",
          "text": [
            "Hi! You are happy!\n",
            "Function name: speak\n",
            "Function doc: Returns a neutral message\n",
            "Function name with decorator: speak\n",
            "Function doc with decorator: Returns a neutral message\n"
          ]
        }
      ],
      "source": [
        "# importing the module\n",
        "import functools\n",
        "\n",
        "# decorator\n",
        "def make_geek_happy(func):\n",
        "    @functools.wraps(func)\n",
        "    def wrapper():\n",
        "        neutral_message = func()\n",
        "        happy_message = neutral_message + \" You are happy!\"\n",
        "        return happy_message\n",
        "    return wrapper\n",
        "\n",
        "def speak():\n",
        "    \"\"\"Returns a neutral message\"\"\"\n",
        "    return \"Hi!\"\n",
        "\n",
        "positive_message = make_geek_happy(speak)\n",
        "print(positive_message())\n",
        "\n",
        "print(f\"Function name: {speak.__name__}\")\n",
        "print(f\"Function doc: {speak.__doc__}\")\n",
        "print(f\"Function name with decorator: {positive_message.__name__}\")\n",
        "print(f\"Function doc with decorator: {positive_message.__doc__}\")"
      ]
    },
    {
      "cell_type": "markdown",
      "id": "d7c87eee-cb16-4c8b-9c29-95e082c8b654",
      "metadata": {
        "id": "d7c87eee-cb16-4c8b-9c29-95e082c8b654"
      },
      "source": [
        "## Funciones Lambda\n",
        "Son también conocidas como funciones anónimas y son funciones que pueden definir cualquier número de parámetros pero una única expresión. Esta expresión es evaluada y devuelta."
      ]
    },
    {
      "cell_type": "code",
      "execution_count": null,
      "id": "11a6797c-6cb4-458c-ae6e-53d5d78c55c6",
      "metadata": {
        "id": "11a6797c-6cb4-458c-ae6e-53d5d78c55c6"
      },
      "outputs": [],
      "source": [
        "cuadrado = lambda x: x ** 2"
      ]
    },
    {
      "cell_type": "code",
      "execution_count": null,
      "id": "441b61ee-b997-47ed-926a-663b3801aeb1",
      "metadata": {
        "id": "441b61ee-b997-47ed-926a-663b3801aeb1",
        "outputId": "f2786e5b-4317-4b3a-8f38-913808405cda"
      },
      "outputs": [
        {
          "name": "stdout",
          "output_type": "stream",
          "text": [
            "16\n"
          ]
        }
      ],
      "source": [
        "print(cuadrado(4))"
      ]
    },
    {
      "cell_type": "markdown",
      "id": "fae269eb-2955-4ed6-945b-a035f7c016bc",
      "metadata": {
        "id": "fae269eb-2955-4ed6-945b-a035f7c016bc"
      },
      "source": [
        "### Uso apropiado de las funciones lambda\n",
        "#### `map()`\n",
        "La función map() en Python aplica una función a cada uno de los elementos de una lista."
      ]
    },
    {
      "cell_type": "code",
      "execution_count": null,
      "id": "829ba118-ef23-432f-b18a-f20111bc85b4",
      "metadata": {
        "id": "829ba118-ef23-432f-b18a-f20111bc85b4",
        "outputId": "fe34f6fd-19e3-46d4-e169-e1633a129cb3"
      },
      "outputs": [
        {
          "name": "stdout",
          "output_type": "stream",
          "text": [
            "[1, 4, 16, 49]\n"
          ]
        }
      ],
      "source": [
        "enteros = [1, 2, 4, 7]\n",
        "cuadrados = []\n",
        "for e in enteros:\n",
        "    cuadrados.append(e ** 2)\n",
        "\n",
        "print(cuadrados)"
      ]
    },
    {
      "cell_type": "code",
      "execution_count": null,
      "id": "1bc53af7-5d2f-440b-86ad-29a821fda0cd",
      "metadata": {
        "id": "1bc53af7-5d2f-440b-86ad-29a821fda0cd",
        "outputId": "422d6c53-21c9-4738-f39e-418cbdecfcbe"
      },
      "outputs": [
        {
          "name": "stdout",
          "output_type": "stream",
          "text": [
            "[1, 4, 16, 49]\n"
          ]
        }
      ],
      "source": [
        "enteros = [1, 2, 4, 7]\n",
        "cuadrados = list(map(lambda x : x ** 2, enteros))\n",
        "print(cuadrados)"
      ]
    },
    {
      "cell_type": "markdown",
      "id": "90f83f3d-b6e2-4e20-9476-89caedd18b2c",
      "metadata": {
        "id": "90f83f3d-b6e2-4e20-9476-89caedd18b2c"
      },
      "source": [
        "#### `filter()`\n",
        "La función filter() filtra una lista de elementos para los que una función devuelve True."
      ]
    },
    {
      "cell_type": "code",
      "execution_count": null,
      "id": "40312582-af9f-47c4-9737-74b81ef83edf",
      "metadata": {
        "id": "40312582-af9f-47c4-9737-74b81ef83edf",
        "outputId": "8504f89c-68a3-4a68-fc75-732a54d2dff3"
      },
      "outputs": [
        {
          "name": "stdout",
          "output_type": "stream",
          "text": [
            "Pares->  [2, 4, 6, 8]\n"
          ]
        }
      ],
      "source": [
        "valores = [1, 2, 3, 4, 5, 6, 7, 8, 9]\n",
        "pares = []\n",
        "for valor in valores:\n",
        "    if valor % 2 == 0:\n",
        "        pares.append(valor)\n",
        "print(\"Pares-> \", pares)"
      ]
    },
    {
      "cell_type": "code",
      "execution_count": null,
      "id": "10b24176-1c24-4bc0-a6ec-27bf4df70ef6",
      "metadata": {
        "id": "10b24176-1c24-4bc0-a6ec-27bf4df70ef6",
        "outputId": "e3af6701-8998-459e-af64-f8887c0ed34f"
      },
      "outputs": [
        {
          "name": "stdout",
          "output_type": "stream",
          "text": [
            "Pares->  [2, 4, 6, 8]\n"
          ]
        }
      ],
      "source": [
        "valores = [1, 2, 3, 4, 5, 6, 7, 8, 9]\n",
        "pares = list(filter(lambda x : x % 2 == 0, valores))\n",
        "print(\"Pares-> \", pares)"
      ]
    },
    {
      "cell_type": "markdown",
      "id": "65c0c56c-5ddb-4e42-b37d-2060ce313684",
      "metadata": {
        "id": "65c0c56c-5ddb-4e42-b37d-2060ce313684"
      },
      "source": [
        "#### `reduce()`\n",
        "Esta función se utiliza principalmente para llevar a cabo un cálculo acumulativo sobre una lista de valores y devolver el resultado."
      ]
    },
    {
      "cell_type": "code",
      "execution_count": null,
      "id": "9035809f-4c5b-43b1-b18f-e0a8fc0c27fc",
      "metadata": {
        "id": "9035809f-4c5b-43b1-b18f-e0a8fc0c27fc",
        "outputId": "13ee9579-7424-4f5c-d3a5-7c15be4671b4"
      },
      "outputs": [
        {
          "name": "stdout",
          "output_type": "stream",
          "text": [
            "21\n"
          ]
        }
      ],
      "source": [
        "valores = [2, 4, 6, 5, 4]\n",
        "suma = 0\n",
        "for el in valores:\n",
        "    suma += el\n",
        "print(suma)"
      ]
    },
    {
      "cell_type": "code",
      "execution_count": null,
      "id": "2a171ddf-14eb-4f20-9652-748a58510a04",
      "metadata": {
        "id": "2a171ddf-14eb-4f20-9652-748a58510a04",
        "outputId": "845e34b1-97e7-49c9-f13a-9dafd022cb92"
      },
      "outputs": [
        {
          "name": "stdout",
          "output_type": "stream",
          "text": [
            "21\n"
          ]
        }
      ],
      "source": [
        "from functools import reduce\n",
        "suma = reduce(lambda x, y: x + y, valores)\n",
        "print(suma)"
      ]
    },
    {
      "cell_type": "markdown",
      "id": "2e0d00c0-aaf8-4a18-8763-71f5d896290f",
      "metadata": {
        "id": "2e0d00c0-aaf8-4a18-8763-71f5d896290f"
      },
      "source": [
        "#### `sorted()`\n",
        "Esta función ordena una lista en forma lexicográfica."
      ]
    },
    {
      "cell_type": "code",
      "execution_count": null,
      "id": "a8063494-d555-4fd7-8575-fee6ed028ebc",
      "metadata": {
        "id": "a8063494-d555-4fd7-8575-fee6ed028ebc",
        "outputId": "6261dbdb-26c4-414c-ac34-8223e13ca2ef"
      },
      "outputs": [
        {
          "name": "stdout",
          "output_type": "stream",
          "text": [
            "['id1', 'id100', 'id2', 'id22', 'id3', 'id30']\n"
          ]
        }
      ],
      "source": [
        "ids = ['id1', 'id2', 'id30', 'id3', 'id22', 'id100']\n",
        "print(sorted(ids)) # Lexicographic sort"
      ]
    },
    {
      "cell_type": "code",
      "execution_count": null,
      "id": "6045e46c-6d76-45c5-8f1e-7f9df1655684",
      "metadata": {
        "id": "6045e46c-6d76-45c5-8f1e-7f9df1655684",
        "outputId": "6346b5f7-7ba3-411d-e916-489b81fd0b9d"
      },
      "outputs": [
        {
          "name": "stdout",
          "output_type": "stream",
          "text": [
            "['id1', 'id2', 'id3', 'id22', 'id30', 'id100']\n"
          ]
        }
      ],
      "source": [
        "sorted_ids = sorted(ids, key=lambda x: int(x[2:])) # Integer sort\n",
        "print(sorted_ids)"
      ]
    },
    {
      "cell_type": "markdown",
      "id": "e0bd2620-1d2a-48f6-820c-62a9ea35637f",
      "metadata": {
        "id": "e0bd2620-1d2a-48f6-820c-62a9ea35637f"
      },
      "source": [
        "## Properties\n",
        "Las properties son la forma pythonica de evitar la creación de métodos para obtener y modificar atributos de una clase. Esta función nos ayuda a convertir atributos de una clase en properties o managed attributes."
      ]
    },
    {
      "cell_type": "code",
      "execution_count": null,
      "id": "b4b31529-2312-4bca-b99d-bfdb5671e1e3",
      "metadata": {
        "id": "b4b31529-2312-4bca-b99d-bfdb5671e1e3"
      },
      "outputs": [],
      "source": [
        "class Point:\n",
        "    def __init__(self, x, y):\n",
        "        self._x = x\n",
        "        self._y = y\n",
        "\n",
        "    def get_x(self):\n",
        "        return self._x\n",
        "\n",
        "    def set_x(self, value):\n",
        "        self._x = value\n",
        "\n",
        "    def get_y(self):\n",
        "        return self._y\n",
        "\n",
        "    def set_y(self, value):\n",
        "        self._y = value"
      ]
    },
    {
      "cell_type": "code",
      "execution_count": null,
      "id": "3fd7cc68-1e9a-48a7-acc5-57195f21408e",
      "metadata": {
        "id": "3fd7cc68-1e9a-48a7-acc5-57195f21408e"
      },
      "outputs": [],
      "source": [
        "point = Point(5, 9)"
      ]
    },
    {
      "cell_type": "code",
      "execution_count": null,
      "id": "55b24b42-a482-4eed-9d16-42a35d1e32da",
      "metadata": {
        "id": "55b24b42-a482-4eed-9d16-42a35d1e32da",
        "outputId": "52edc298-abc2-443b-9c73-e9769d10ed31"
      },
      "outputs": [
        {
          "data": {
            "text/plain": [
              "5"
            ]
          },
          "execution_count": 34,
          "metadata": {},
          "output_type": "execute_result"
        }
      ],
      "source": [
        "point.get_x()"
      ]
    },
    {
      "cell_type": "code",
      "execution_count": null,
      "id": "8f35e10a-afd0-487f-8742-7daca03de39b",
      "metadata": {
        "id": "8f35e10a-afd0-487f-8742-7daca03de39b",
        "outputId": "fa527ca9-a126-4478-8ceb-91da82f60b54"
      },
      "outputs": [
        {
          "data": {
            "text/plain": [
              "9"
            ]
          },
          "execution_count": 35,
          "metadata": {},
          "output_type": "execute_result"
        }
      ],
      "source": [
        "point.get_y()"
      ]
    },
    {
      "cell_type": "code",
      "execution_count": null,
      "id": "33a5eade-8638-4a09-ad63-3d2abb1d699b",
      "metadata": {
        "id": "33a5eade-8638-4a09-ad63-3d2abb1d699b"
      },
      "outputs": [],
      "source": [
        "point.set_x(8)"
      ]
    },
    {
      "cell_type": "code",
      "execution_count": null,
      "id": "2b8c4b57-c2d3-465e-8662-379439110fa6",
      "metadata": {
        "id": "2b8c4b57-c2d3-465e-8662-379439110fa6",
        "outputId": "0730cb8b-c05d-4729-d636-68c8139bfc1b"
      },
      "outputs": [
        {
          "data": {
            "text/plain": [
              "8"
            ]
          },
          "execution_count": 37,
          "metadata": {},
          "output_type": "execute_result"
        }
      ],
      "source": [
        "point.get_x()"
      ]
    },
    {
      "cell_type": "code",
      "execution_count": null,
      "id": "30b7f779-91a9-4ca7-8479-031b5edf9b2b",
      "metadata": {
        "id": "30b7f779-91a9-4ca7-8479-031b5edf9b2b",
        "outputId": "fb62ee30-ec5b-436f-cd80-70532c74b867"
      },
      "outputs": [
        {
          "data": {
            "text/plain": [
              "8"
            ]
          },
          "execution_count": 38,
          "metadata": {},
          "output_type": "execute_result"
        }
      ],
      "source": [
        "point._x"
      ]
    },
    {
      "cell_type": "markdown",
      "id": "8ad678bd-5ea7-4667-9714-779c3c278325",
      "metadata": {
        "id": "8ad678bd-5ea7-4667-9714-779c3c278325"
      },
      "source": [
        "### Creando properties con la inicialización de la función `property()`"
      ]
    },
    {
      "cell_type": "code",
      "execution_count": null,
      "id": "9b72e5e0-6555-449b-85f0-a84a136270c8",
      "metadata": {
        "id": "9b72e5e0-6555-449b-85f0-a84a136270c8"
      },
      "outputs": [],
      "source": [
        "class Circle:\n",
        "    def __init__(self, radius):\n",
        "        self._radius = radius\n",
        "\n",
        "    def _get_radius(self):\n",
        "        print(\"Get radius\")\n",
        "        return self._radius\n",
        "\n",
        "    def _set_radius(self, value):\n",
        "        print(\"Set radius\")\n",
        "        self._radius = value\n",
        "\n",
        "    def _del_radius(self):\n",
        "        print(\"Delete radius\")\n",
        "        del self._radius\n",
        "\n",
        "    radius = property(\n",
        "        fget=_get_radius,\n",
        "        fset=_set_radius,\n",
        "        fdel=_del_radius,\n",
        "        doc=\"The radius property.\"\n",
        "    )"
      ]
    },
    {
      "cell_type": "code",
      "execution_count": null,
      "id": "7df35c32-967a-4b1b-9ab5-eebc3707f35d",
      "metadata": {
        "id": "7df35c32-967a-4b1b-9ab5-eebc3707f35d"
      },
      "outputs": [],
      "source": [
        "circle = Circle(42.0)"
      ]
    },
    {
      "cell_type": "code",
      "execution_count": null,
      "id": "03bf60ed-b5f2-4ddd-bb0d-0dc8bb20f6ac",
      "metadata": {
        "id": "03bf60ed-b5f2-4ddd-bb0d-0dc8bb20f6ac",
        "outputId": "bb762559-25ea-4ce3-e9c0-9f2c051b9f30"
      },
      "outputs": [
        {
          "name": "stdout",
          "output_type": "stream",
          "text": [
            "Get radius\n"
          ]
        },
        {
          "data": {
            "text/plain": [
              "42.0"
            ]
          },
          "execution_count": 41,
          "metadata": {},
          "output_type": "execute_result"
        }
      ],
      "source": [
        "circle.radius"
      ]
    },
    {
      "cell_type": "code",
      "execution_count": null,
      "id": "f1d5070f-dbc8-4d7f-bc69-73558c1c3740",
      "metadata": {
        "id": "f1d5070f-dbc8-4d7f-bc69-73558c1c3740",
        "outputId": "27987d75-f394-420b-ac85-7fc2663eee9e"
      },
      "outputs": [
        {
          "name": "stdout",
          "output_type": "stream",
          "text": [
            "Set radius\n"
          ]
        }
      ],
      "source": [
        "circle.radius = 50"
      ]
    },
    {
      "cell_type": "code",
      "execution_count": null,
      "id": "b6c2c95c-a064-49bd-aac6-8930f74c843e",
      "metadata": {
        "id": "b6c2c95c-a064-49bd-aac6-8930f74c843e",
        "outputId": "5187e60c-7472-4485-8c9f-b4f03509aebd"
      },
      "outputs": [
        {
          "name": "stdout",
          "output_type": "stream",
          "text": [
            "Get radius\n"
          ]
        },
        {
          "data": {
            "text/plain": [
              "50"
            ]
          },
          "execution_count": 43,
          "metadata": {},
          "output_type": "execute_result"
        }
      ],
      "source": [
        "circle.radius"
      ]
    },
    {
      "cell_type": "code",
      "execution_count": null,
      "id": "27ac73a7-f21a-4019-a6b8-eeb12315306d",
      "metadata": {
        "id": "27ac73a7-f21a-4019-a6b8-eeb12315306d",
        "outputId": "2fe8bffb-0ce6-463d-952a-272f4983c4ef"
      },
      "outputs": [
        {
          "name": "stdout",
          "output_type": "stream",
          "text": [
            "Delete radius\n"
          ]
        }
      ],
      "source": [
        "del circle.radius"
      ]
    },
    {
      "cell_type": "code",
      "execution_count": null,
      "id": "0c4ffaff-e56b-4c97-b833-66cb0f4833c8",
      "metadata": {
        "id": "0c4ffaff-e56b-4c97-b833-66cb0f4833c8",
        "outputId": "0b6c52f2-774e-477a-8c65-7b1a1a414554"
      },
      "outputs": [
        {
          "name": "stdout",
          "output_type": "stream",
          "text": [
            "Get radius\n"
          ]
        },
        {
          "ename": "AttributeError",
          "evalue": "'Circle' object has no attribute '_radius'",
          "output_type": "error",
          "traceback": [
            "\u001b[0;31m---------------------------------------------------------------------------\u001b[0m",
            "\u001b[0;31mAttributeError\u001b[0m                            Traceback (most recent call last)",
            "Cell \u001b[0;32mIn[45], line 1\u001b[0m\n\u001b[0;32m----> 1\u001b[0m \u001b[43mcircle\u001b[49m\u001b[38;5;241;43m.\u001b[39;49m\u001b[43mradius\u001b[49m\n",
            "Cell \u001b[0;32mIn[39], line 7\u001b[0m, in \u001b[0;36mCircle._get_radius\u001b[0;34m(self)\u001b[0m\n\u001b[1;32m      5\u001b[0m \u001b[38;5;28;01mdef\u001b[39;00m \u001b[38;5;21m_get_radius\u001b[39m(\u001b[38;5;28mself\u001b[39m):\n\u001b[1;32m      6\u001b[0m     \u001b[38;5;28mprint\u001b[39m(\u001b[38;5;124m\"\u001b[39m\u001b[38;5;124mGet radius\u001b[39m\u001b[38;5;124m\"\u001b[39m)\n\u001b[0;32m----> 7\u001b[0m     \u001b[38;5;28;01mreturn\u001b[39;00m \u001b[38;5;28;43mself\u001b[39;49m\u001b[38;5;241;43m.\u001b[39;49m\u001b[43m_radius\u001b[49m\n",
            "\u001b[0;31mAttributeError\u001b[0m: 'Circle' object has no attribute '_radius'"
          ]
        }
      ],
      "source": [
        "circle.radius"
      ]
    },
    {
      "cell_type": "markdown",
      "id": "b6480c8d-445c-43f2-afcf-23ea7821dd74",
      "metadata": {
        "id": "b6480c8d-445c-43f2-afcf-23ea7821dd74"
      },
      "source": [
        "### Usando `property()` como decorador"
      ]
    },
    {
      "cell_type": "code",
      "execution_count": null,
      "id": "535b699e-d3cb-45c6-b32e-ddf7c786b015",
      "metadata": {
        "id": "535b699e-d3cb-45c6-b32e-ddf7c786b015"
      },
      "outputs": [],
      "source": [
        "class Circle:\n",
        "    def __init__(self, radius):\n",
        "        self._radius = radius\n",
        "\n",
        "    @property\n",
        "    def radius(self):\n",
        "        \"\"\"The radius property.\"\"\"\n",
        "        print(\"Get radius\")\n",
        "        return self._radius\n",
        "\n",
        "    @radius.setter\n",
        "    def radius(self, value):\n",
        "        print(\"Set radius\")\n",
        "        self._radius = value\n",
        "\n",
        "    @radius.deleter\n",
        "    def radius(self):\n",
        "        print(\"Delete radius\")\n",
        "        del self._radius"
      ]
    },
    {
      "cell_type": "code",
      "execution_count": null,
      "id": "b94c4aef-078c-46a5-a416-7aa1973d6c8f",
      "metadata": {
        "id": "b94c4aef-078c-46a5-a416-7aa1973d6c8f"
      },
      "outputs": [],
      "source": [
        "circle = Circle(42.0)"
      ]
    },
    {
      "cell_type": "code",
      "execution_count": null,
      "id": "c79a8209-6430-4172-9f1a-a691844dd488",
      "metadata": {
        "id": "c79a8209-6430-4172-9f1a-a691844dd488",
        "outputId": "73c0059d-6ec9-42cb-c058-24ec6e67671a"
      },
      "outputs": [
        {
          "name": "stdout",
          "output_type": "stream",
          "text": [
            "Get radius\n"
          ]
        },
        {
          "data": {
            "text/plain": [
              "42.0"
            ]
          },
          "execution_count": 48,
          "metadata": {},
          "output_type": "execute_result"
        }
      ],
      "source": [
        "circle.radius"
      ]
    },
    {
      "cell_type": "code",
      "execution_count": null,
      "id": "83544895-dbc5-4495-9558-099dd713ea12",
      "metadata": {
        "id": "83544895-dbc5-4495-9558-099dd713ea12",
        "outputId": "1b5da426-b705-4813-868c-ad56bcdf512d"
      },
      "outputs": [
        {
          "name": "stdout",
          "output_type": "stream",
          "text": [
            "Set radius\n"
          ]
        }
      ],
      "source": [
        "circle.radius = 50"
      ]
    },
    {
      "cell_type": "code",
      "execution_count": null,
      "id": "50c56ebb-965c-4cee-a30e-f340f2e083b5",
      "metadata": {
        "id": "50c56ebb-965c-4cee-a30e-f340f2e083b5",
        "outputId": "4358a9b7-5b05-4a44-bb14-d887384329a0"
      },
      "outputs": [
        {
          "name": "stdout",
          "output_type": "stream",
          "text": [
            "Get radius\n"
          ]
        },
        {
          "data": {
            "text/plain": [
              "50"
            ]
          },
          "execution_count": 50,
          "metadata": {},
          "output_type": "execute_result"
        }
      ],
      "source": [
        "circle.radius"
      ]
    },
    {
      "cell_type": "code",
      "execution_count": null,
      "id": "6c15901e-d849-4515-8b14-fc2302cc78a3",
      "metadata": {
        "id": "6c15901e-d849-4515-8b14-fc2302cc78a3",
        "outputId": "67112aa8-b7ec-4ed9-dcf9-a7ecaf1dc538"
      },
      "outputs": [
        {
          "name": "stdout",
          "output_type": "stream",
          "text": [
            "Delete radius\n"
          ]
        }
      ],
      "source": [
        "del circle.radius"
      ]
    },
    {
      "cell_type": "code",
      "execution_count": null,
      "id": "254fa8c1-b625-4682-8759-57d96d05f4fa",
      "metadata": {
        "id": "254fa8c1-b625-4682-8759-57d96d05f4fa",
        "outputId": "8168d820-60a4-46d5-a858-34b11eae8e78"
      },
      "outputs": [
        {
          "name": "stdout",
          "output_type": "stream",
          "text": [
            "Get radius\n"
          ]
        },
        {
          "ename": "AttributeError",
          "evalue": "'Circle' object has no attribute '_radius'",
          "output_type": "error",
          "traceback": [
            "\u001b[0;31m---------------------------------------------------------------------------\u001b[0m",
            "\u001b[0;31mAttributeError\u001b[0m                            Traceback (most recent call last)",
            "Cell \u001b[0;32mIn[52], line 1\u001b[0m\n\u001b[0;32m----> 1\u001b[0m \u001b[43mcircle\u001b[49m\u001b[38;5;241;43m.\u001b[39;49m\u001b[43mradius\u001b[49m\n",
            "Cell \u001b[0;32mIn[46], line 9\u001b[0m, in \u001b[0;36mCircle.radius\u001b[0;34m(self)\u001b[0m\n\u001b[1;32m      7\u001b[0m \u001b[38;5;250m\u001b[39m\u001b[38;5;124;03m\"\"\"The radius property.\"\"\"\u001b[39;00m\n\u001b[1;32m      8\u001b[0m \u001b[38;5;28mprint\u001b[39m(\u001b[38;5;124m\"\u001b[39m\u001b[38;5;124mGet radius\u001b[39m\u001b[38;5;124m\"\u001b[39m)\n\u001b[0;32m----> 9\u001b[0m \u001b[38;5;28;01mreturn\u001b[39;00m \u001b[38;5;28;43mself\u001b[39;49m\u001b[38;5;241;43m.\u001b[39;49m\u001b[43m_radius\u001b[49m\n",
            "\u001b[0;31mAttributeError\u001b[0m: 'Circle' object has no attribute '_radius'"
          ]
        }
      ],
      "source": [
        "circle.radius"
      ]
    },
    {
      "cell_type": "markdown",
      "id": "b05fac00-439d-4373-90a4-516711fc043a",
      "metadata": {
        "id": "b05fac00-439d-4373-90a4-516711fc043a"
      },
      "source": [
        "#### Creando atributos de solo lectura"
      ]
    },
    {
      "cell_type": "code",
      "execution_count": null,
      "id": "48a34671-6932-4ba8-8e58-cfdcc61fa914",
      "metadata": {
        "id": "48a34671-6932-4ba8-8e58-cfdcc61fa914"
      },
      "outputs": [],
      "source": [
        "class Point:\n",
        "    def __init__(self, x, y):\n",
        "        self._x = x\n",
        "        self._y = y\n",
        "\n",
        "    @property\n",
        "    def x(self):\n",
        "        return self._x\n",
        "\n",
        "    @property\n",
        "    def y(self):\n",
        "        return self._y"
      ]
    },
    {
      "cell_type": "code",
      "execution_count": null,
      "id": "cb28aaf5-9e2e-41e8-ae9c-26d7f5cfcac0",
      "metadata": {
        "id": "cb28aaf5-9e2e-41e8-ae9c-26d7f5cfcac0"
      },
      "outputs": [],
      "source": [
        "point = Point(12, 5)"
      ]
    },
    {
      "cell_type": "code",
      "execution_count": null,
      "id": "ff45c1ef-feb8-45ea-aafe-a8e1b57c68e5",
      "metadata": {
        "id": "ff45c1ef-feb8-45ea-aafe-a8e1b57c68e5",
        "outputId": "6e727b65-3e5e-45f3-cb0c-d72478445bf9"
      },
      "outputs": [
        {
          "data": {
            "text/plain": [
              "12"
            ]
          },
          "execution_count": 55,
          "metadata": {},
          "output_type": "execute_result"
        }
      ],
      "source": [
        "point.x"
      ]
    },
    {
      "cell_type": "code",
      "execution_count": null,
      "id": "7ec8f718-882e-4017-9119-15a674bccf11",
      "metadata": {
        "id": "7ec8f718-882e-4017-9119-15a674bccf11",
        "outputId": "0e45b84a-4e76-451a-9de7-0f6b8f0914c4"
      },
      "outputs": [
        {
          "data": {
            "text/plain": [
              "5"
            ]
          },
          "execution_count": 56,
          "metadata": {},
          "output_type": "execute_result"
        }
      ],
      "source": [
        "point.y"
      ]
    },
    {
      "cell_type": "code",
      "execution_count": null,
      "id": "52ad8519-2440-4c67-a5d5-8f04616421a1",
      "metadata": {
        "id": "52ad8519-2440-4c67-a5d5-8f04616421a1",
        "outputId": "2578d6e5-563f-4b7c-a3c4-b8952fd3a996"
      },
      "outputs": [
        {
          "ename": "AttributeError",
          "evalue": "property 'x' of 'Point' object has no setter",
          "output_type": "error",
          "traceback": [
            "\u001b[0;31m---------------------------------------------------------------------------\u001b[0m",
            "\u001b[0;31mAttributeError\u001b[0m                            Traceback (most recent call last)",
            "Cell \u001b[0;32mIn[57], line 1\u001b[0m\n\u001b[0;32m----> 1\u001b[0m \u001b[43mpoint\u001b[49m\u001b[38;5;241;43m.\u001b[39;49m\u001b[43mx\u001b[49m \u001b[38;5;241m=\u001b[39m \u001b[38;5;241m10\u001b[39m\n",
            "\u001b[0;31mAttributeError\u001b[0m: property 'x' of 'Point' object has no setter"
          ]
        }
      ],
      "source": [
        "point.x = 10"
      ]
    },
    {
      "cell_type": "markdown",
      "id": "1bc8c7e5-58b9-44f0-b510-2085133378b6",
      "metadata": {
        "id": "1bc8c7e5-58b9-44f0-b510-2085133378b6"
      },
      "source": [
        "#### Creando atributos de solo escritura"
      ]
    },
    {
      "cell_type": "code",
      "execution_count": null,
      "id": "68fed35d-d579-4e7c-921b-df9ff20d31b9",
      "metadata": {
        "id": "68fed35d-d579-4e7c-921b-df9ff20d31b9"
      },
      "outputs": [],
      "source": [
        "import hashlib\n",
        "import os\n",
        "\n",
        "class User:\n",
        "    def __init__(self, name, password):\n",
        "        self.name = name\n",
        "        self.password = password\n",
        "\n",
        "    @property\n",
        "    def password(self):\n",
        "        raise AttributeError(\"Password is write-only\")\n",
        "\n",
        "    @password.setter\n",
        "    def password(self, plaintext):\n",
        "        salt = os.urandom(32)\n",
        "        self._hashed_password = hashlib.pbkdf2_hmac(\n",
        "            \"sha256\", plaintext.encode(\"utf-8\"), salt, 100_000\n",
        "        )"
      ]
    },
    {
      "cell_type": "code",
      "execution_count": null,
      "id": "0d0082dc-7753-4ccb-b24f-e2a5ebad542f",
      "metadata": {
        "id": "0d0082dc-7753-4ccb-b24f-e2a5ebad542f"
      },
      "outputs": [],
      "source": [
        "user = User(\"Carolina\", \"secure_password\")"
      ]
    },
    {
      "cell_type": "code",
      "execution_count": null,
      "id": "10161fb9-8824-4783-8a7a-d548e6d41bf8",
      "metadata": {
        "id": "10161fb9-8824-4783-8a7a-d548e6d41bf8",
        "outputId": "1b113c82-78ac-482e-eb24-d402f7ae2370"
      },
      "outputs": [
        {
          "ename": "AttributeError",
          "evalue": "Password is write-only",
          "output_type": "error",
          "traceback": [
            "\u001b[0;31m---------------------------------------------------------------------------\u001b[0m",
            "\u001b[0;31mAttributeError\u001b[0m                            Traceback (most recent call last)",
            "Cell \u001b[0;32mIn[60], line 1\u001b[0m\n\u001b[0;32m----> 1\u001b[0m \u001b[43muser\u001b[49m\u001b[38;5;241;43m.\u001b[39;49m\u001b[43mpassword\u001b[49m\n",
            "Cell \u001b[0;32mIn[58], line 11\u001b[0m, in \u001b[0;36mUser.password\u001b[0;34m(self)\u001b[0m\n\u001b[1;32m      9\u001b[0m \u001b[38;5;129m@property\u001b[39m\n\u001b[1;32m     10\u001b[0m \u001b[38;5;28;01mdef\u001b[39;00m \u001b[38;5;21mpassword\u001b[39m(\u001b[38;5;28mself\u001b[39m):\n\u001b[0;32m---> 11\u001b[0m     \u001b[38;5;28;01mraise\u001b[39;00m \u001b[38;5;167;01mAttributeError\u001b[39;00m(\u001b[38;5;124m\"\u001b[39m\u001b[38;5;124mPassword is write-only\u001b[39m\u001b[38;5;124m\"\u001b[39m)\n",
            "\u001b[0;31mAttributeError\u001b[0m: Password is write-only"
          ]
        }
      ],
      "source": [
        "user.password"
      ]
    },
    {
      "cell_type": "code",
      "execution_count": null,
      "id": "6763fc27-62d1-4695-a55b-aef8ef2f6a04",
      "metadata": {
        "id": "6763fc27-62d1-4695-a55b-aef8ef2f6a04"
      },
      "outputs": [],
      "source": [
        "user.password = \"another_Secure_password\""
      ]
    },
    {
      "cell_type": "markdown",
      "id": "b8d596b6-77c3-45f3-b18d-14e09845b603",
      "metadata": {
        "id": "b8d596b6-77c3-45f3-b18d-14e09845b603"
      },
      "source": [
        "### Algunos casos de uso de las `properties()`\n",
        "#### 1. Validando atributos"
      ]
    },
    {
      "cell_type": "code",
      "execution_count": null,
      "id": "2ad33530-f267-4388-9755-03f215c61ee3",
      "metadata": {
        "id": "2ad33530-f267-4388-9755-03f215c61ee3"
      },
      "outputs": [],
      "source": [
        "class Point:\n",
        "    def __init__(self, x, y):\n",
        "        self.x = x\n",
        "        self.y = y\n",
        "\n",
        "    @property\n",
        "    def x(self):\n",
        "        return self._x\n",
        "\n",
        "    @x.setter\n",
        "    def x(self, value):\n",
        "        try:\n",
        "            self._x = float(value)\n",
        "            print(\"Validated!\")\n",
        "        except ValueError:\n",
        "            raise ValueError('\"x\" must be a number') from None\n",
        "\n",
        "    @property\n",
        "    def y(self):\n",
        "        return self._y\n",
        "\n",
        "    @y.setter\n",
        "    def y(self, value):\n",
        "        try:\n",
        "            self._y = float(value)\n",
        "            print(\"Validated!\")\n",
        "        except ValueError:\n",
        "            raise ValueError('\"y\" must be a number') from None"
      ]
    },
    {
      "cell_type": "code",
      "execution_count": null,
      "id": "fd1a24ba-9e19-4127-8e29-e0327ba8c197",
      "metadata": {
        "id": "fd1a24ba-9e19-4127-8e29-e0327ba8c197",
        "outputId": "56799a4d-592e-4678-e4af-379dabca4511"
      },
      "outputs": [
        {
          "name": "stdout",
          "output_type": "stream",
          "text": [
            "Validated!\n",
            "Validated!\n"
          ]
        }
      ],
      "source": [
        "point = Point(2, 5)"
      ]
    },
    {
      "cell_type": "code",
      "execution_count": null,
      "id": "721b2554-b4b2-49b3-99db-faac2df4be48",
      "metadata": {
        "id": "721b2554-b4b2-49b3-99db-faac2df4be48",
        "outputId": "03966c5c-2212-46a1-c159-8f1d84e2ee50"
      },
      "outputs": [
        {
          "ename": "ValueError",
          "evalue": "\"x\" must be a number",
          "output_type": "error",
          "traceback": [
            "\u001b[0;31m---------------------------------------------------------------------------\u001b[0m",
            "\u001b[0;31mValueError\u001b[0m                                Traceback (most recent call last)",
            "Cell \u001b[0;32mIn[64], line 1\u001b[0m\n\u001b[0;32m----> 1\u001b[0m \u001b[43mpoint\u001b[49m\u001b[38;5;241;43m.\u001b[39;49m\u001b[43mx\u001b[49m \u001b[38;5;241m=\u001b[39m \u001b[38;5;124m\"\u001b[39m\u001b[38;5;124mhola\u001b[39m\u001b[38;5;124m\"\u001b[39m\n",
            "Cell \u001b[0;32mIn[62], line 16\u001b[0m, in \u001b[0;36mPoint.x\u001b[0;34m(self, value)\u001b[0m\n\u001b[1;32m     14\u001b[0m     \u001b[38;5;28mprint\u001b[39m(\u001b[38;5;124m\"\u001b[39m\u001b[38;5;124mValidated!\u001b[39m\u001b[38;5;124m\"\u001b[39m)\n\u001b[1;32m     15\u001b[0m \u001b[38;5;28;01mexcept\u001b[39;00m \u001b[38;5;167;01mValueError\u001b[39;00m:\n\u001b[0;32m---> 16\u001b[0m     \u001b[38;5;28;01mraise\u001b[39;00m \u001b[38;5;167;01mValueError\u001b[39;00m(\u001b[38;5;124m'\u001b[39m\u001b[38;5;124m\"\u001b[39m\u001b[38;5;124mx\u001b[39m\u001b[38;5;124m\"\u001b[39m\u001b[38;5;124m must be a number\u001b[39m\u001b[38;5;124m'\u001b[39m) \u001b[38;5;28;01mfrom\u001b[39;00m \u001b[38;5;28;01mNone\u001b[39;00m\n",
            "\u001b[0;31mValueError\u001b[0m: \"x\" must be a number"
          ]
        }
      ],
      "source": [
        "point.x = \"hola\""
      ]
    },
    {
      "cell_type": "markdown",
      "id": "8ed30c25-0a0f-4531-a1e7-223682a4ed05",
      "metadata": {
        "id": "8ed30c25-0a0f-4531-a1e7-223682a4ed05"
      },
      "source": [
        "#### 2. Para agregar atributos que requieren algún calculo"
      ]
    },
    {
      "cell_type": "code",
      "execution_count": null,
      "id": "bae30cc8-aea2-4bd4-94b7-144c07c64071",
      "metadata": {
        "id": "bae30cc8-aea2-4bd4-94b7-144c07c64071"
      },
      "outputs": [],
      "source": [
        "class Rectangle:\n",
        "    def __init__(self, width, height):\n",
        "        self.width = width\n",
        "        self.height = height\n",
        "\n",
        "    @property\n",
        "    def area(self):\n",
        "        return self.width * self.height"
      ]
    },
    {
      "cell_type": "code",
      "execution_count": null,
      "id": "169f003e-c25d-45de-8b0d-4b5510748caa",
      "metadata": {
        "id": "169f003e-c25d-45de-8b0d-4b5510748caa"
      },
      "outputs": [],
      "source": [
        "rectangle = Rectangle(30, 50)"
      ]
    },
    {
      "cell_type": "code",
      "execution_count": null,
      "id": "dd0705ed-2ca7-4730-8e02-6025ea5ee5d7",
      "metadata": {
        "id": "dd0705ed-2ca7-4730-8e02-6025ea5ee5d7",
        "outputId": "edeae8ce-4687-46f2-b003-4dfebe8cc0dc"
      },
      "outputs": [
        {
          "data": {
            "text/plain": [
              "1500"
            ]
          },
          "execution_count": 67,
          "metadata": {},
          "output_type": "execute_result"
        }
      ],
      "source": [
        "rectangle.area"
      ]
    },
    {
      "cell_type": "markdown",
      "id": "f0a5e117-e51e-4445-b51a-169bcdc5576a",
      "metadata": {
        "id": "f0a5e117-e51e-4445-b51a-169bcdc5576a"
      },
      "source": [
        "## Métodos de instancia, métodos de clase y métodos estáticos\n",
        "Los **métodos de instancia** son creados para modificar un objeto instanciado de una clase.\n",
        "\n",
        "Los **métodos de clase** trabajan directamente con la clase, desde que su parámetro es la clase en sí.\n",
        "\n",
        "Los **métodos estáticos** no saben nada acerca de la clase, solo trabajan con los parámetros recibidos."
      ]
    },
    {
      "cell_type": "code",
      "execution_count": null,
      "id": "6178572f-4efb-4aec-9764-bbc8e4db796a",
      "metadata": {
        "id": "6178572f-4efb-4aec-9764-bbc8e4db796a"
      },
      "outputs": [],
      "source": [
        "class MyClass:\n",
        "    def method(self):\n",
        "        \"\"\" Instance method \"\"\"\n",
        "        return 'instance method called', self\n",
        "\n",
        "    @classmethod\n",
        "    def class_method(cls):\n",
        "        \"\"\" Class method \"\"\"\n",
        "        return 'class method called', cls\n",
        "\n",
        "    @staticmethod\n",
        "    def static_method():\n",
        "        \"\"\" Static method \"\"\"\n",
        "        return 'static method called'"
      ]
    },
    {
      "cell_type": "code",
      "execution_count": null,
      "id": "d306a441-7ff4-4220-a58e-bcb33179a3c2",
      "metadata": {
        "id": "d306a441-7ff4-4220-a58e-bcb33179a3c2"
      },
      "outputs": [],
      "source": [
        "obj = MyClass()"
      ]
    },
    {
      "cell_type": "code",
      "execution_count": null,
      "id": "c63f2d66-81d1-401f-bb87-a1a961da52bf",
      "metadata": {
        "id": "c63f2d66-81d1-401f-bb87-a1a961da52bf",
        "outputId": "3b1e593c-5249-43c5-9e2c-e6d91d8abbc9"
      },
      "outputs": [
        {
          "data": {
            "text/plain": [
              "('instance method called', <__main__.MyClass at 0x10668ea90>)"
            ]
          },
          "execution_count": 70,
          "metadata": {},
          "output_type": "execute_result"
        }
      ],
      "source": [
        "obj.method()"
      ]
    },
    {
      "cell_type": "code",
      "execution_count": null,
      "id": "75dc1e77-0c1e-44cf-a4ca-cb52d748564d",
      "metadata": {
        "id": "75dc1e77-0c1e-44cf-a4ca-cb52d748564d",
        "outputId": "fb4db02b-0160-4bee-fc67-39c304947151"
      },
      "outputs": [
        {
          "data": {
            "text/plain": [
              "('instance method called', <__main__.MyClass at 0x10668ea90>)"
            ]
          },
          "execution_count": 71,
          "metadata": {},
          "output_type": "execute_result"
        }
      ],
      "source": [
        "MyClass.method(obj)"
      ]
    },
    {
      "cell_type": "code",
      "execution_count": null,
      "id": "6d8dc0da-df16-4324-80f7-126180a11feb",
      "metadata": {
        "id": "6d8dc0da-df16-4324-80f7-126180a11feb",
        "outputId": "c89f9cc9-9a8c-45cc-cdbb-194b95cddac1"
      },
      "outputs": [
        {
          "data": {
            "text/plain": [
              "('class method called', __main__.MyClass)"
            ]
          },
          "execution_count": 72,
          "metadata": {},
          "output_type": "execute_result"
        }
      ],
      "source": [
        "obj.class_method()"
      ]
    },
    {
      "cell_type": "code",
      "execution_count": null,
      "id": "7e055b0d-2f18-43c4-885f-f3120eaa8860",
      "metadata": {
        "id": "7e055b0d-2f18-43c4-885f-f3120eaa8860",
        "outputId": "af9c7af1-9f46-4f9f-8ff3-b1bb3f6e689d"
      },
      "outputs": [
        {
          "data": {
            "text/plain": [
              "'static method called'"
            ]
          },
          "execution_count": 73,
          "metadata": {},
          "output_type": "execute_result"
        }
      ],
      "source": [
        "obj.static_method()"
      ]
    },
    {
      "cell_type": "markdown",
      "id": "1703785b-4a52-451c-94e1-b1bd4067ee54",
      "metadata": {
        "id": "1703785b-4a52-451c-94e1-b1bd4067ee54"
      },
      "source": [
        "### ¿Qué pasa si accedemos a los metodos sin instanciar un objeto de la clase?\n"
      ]
    },
    {
      "cell_type": "code",
      "execution_count": null,
      "id": "6f5390b3-8bef-4ac2-a71c-1c524ae266e2",
      "metadata": {
        "id": "6f5390b3-8bef-4ac2-a71c-1c524ae266e2",
        "outputId": "3779a114-ae13-4303-b0fc-652739273b0c"
      },
      "outputs": [
        {
          "data": {
            "text/plain": [
              "('class method called', __main__.MyClass)"
            ]
          },
          "execution_count": 74,
          "metadata": {},
          "output_type": "execute_result"
        }
      ],
      "source": [
        "MyClass.class_method()"
      ]
    },
    {
      "cell_type": "code",
      "execution_count": null,
      "id": "40e95922-40dd-47f8-875c-4f33479395a4",
      "metadata": {
        "id": "40e95922-40dd-47f8-875c-4f33479395a4",
        "outputId": "325dc8e5-74eb-48bd-fe53-86a9b9d8a50f"
      },
      "outputs": [
        {
          "data": {
            "text/plain": [
              "'static method called'"
            ]
          },
          "execution_count": 75,
          "metadata": {},
          "output_type": "execute_result"
        }
      ],
      "source": [
        "MyClass.static_method()"
      ]
    },
    {
      "cell_type": "code",
      "execution_count": null,
      "id": "68e8e0b2-5f1b-4175-a0df-05df66f547f5",
      "metadata": {
        "id": "68e8e0b2-5f1b-4175-a0df-05df66f547f5",
        "outputId": "94db5c17-869b-48e5-d7a6-20e99812620c"
      },
      "outputs": [
        {
          "ename": "TypeError",
          "evalue": "MyClass.method() missing 1 required positional argument: 'self'",
          "output_type": "error",
          "traceback": [
            "\u001b[0;31m---------------------------------------------------------------------------\u001b[0m",
            "\u001b[0;31mTypeError\u001b[0m                                 Traceback (most recent call last)",
            "Cell \u001b[0;32mIn[76], line 1\u001b[0m\n\u001b[0;32m----> 1\u001b[0m \u001b[43mMyClass\u001b[49m\u001b[38;5;241;43m.\u001b[39;49m\u001b[43mmethod\u001b[49m\u001b[43m(\u001b[49m\u001b[43m)\u001b[49m\n",
            "\u001b[0;31mTypeError\u001b[0m: MyClass.method() missing 1 required positional argument: 'self'"
          ]
        }
      ],
      "source": [
        "MyClass.method()"
      ]
    },
    {
      "cell_type": "markdown",
      "id": "638a2132-dcde-41f1-a9b6-db5fc91294c1",
      "metadata": {
        "id": "638a2132-dcde-41f1-a9b6-db5fc91294c1"
      },
      "source": [
        "### Ejemplos de uso"
      ]
    },
    {
      "cell_type": "code",
      "execution_count": null,
      "id": "c6931fa3-c9f8-493b-9b2d-6d3a3fbb8d73",
      "metadata": {
        "id": "c6931fa3-c9f8-493b-9b2d-6d3a3fbb8d73"
      },
      "outputs": [],
      "source": [
        "class Pizza:\n",
        "    def __init__(self, ingredients):\n",
        "        self.ingredients = ingredients\n",
        "\n",
        "    def __repr__(self):\n",
        "        return f'Pizza({self.ingredients})'"
      ]
    },
    {
      "cell_type": "code",
      "execution_count": null,
      "id": "cb3baca9-e3ec-4f93-8bf3-5f4670e15e00",
      "metadata": {
        "id": "cb3baca9-e3ec-4f93-8bf3-5f4670e15e00"
      },
      "outputs": [],
      "source": [
        "margherita = Pizza(['mozzarella', 'tomatoes'])\n",
        "cheese = Pizza(['mozzarella', 'provolone', 'cheddar', 'Parmesan'])"
      ]
    },
    {
      "cell_type": "code",
      "execution_count": null,
      "id": "e88848fa-1245-4dd6-8d0c-ad16ffe24ad0",
      "metadata": {
        "id": "e88848fa-1245-4dd6-8d0c-ad16ffe24ad0",
        "outputId": "a80e6f04-0b67-4dba-ba4c-51d5a98d8b48"
      },
      "outputs": [
        {
          "data": {
            "text/plain": [
              "Pizza(['mozzarella', 'tomatoes'])"
            ]
          },
          "execution_count": 79,
          "metadata": {},
          "output_type": "execute_result"
        }
      ],
      "source": [
        "margherita"
      ]
    },
    {
      "cell_type": "code",
      "execution_count": null,
      "id": "5cee1c8c-069b-40c4-94d3-6191a271b61e",
      "metadata": {
        "id": "5cee1c8c-069b-40c4-94d3-6191a271b61e",
        "outputId": "0b7810f9-3358-4779-9e1e-f4b7e2f53920"
      },
      "outputs": [
        {
          "data": {
            "text/plain": [
              "Pizza(['mozzarella', 'provolone', 'cheddar', 'Parmesan'])"
            ]
          },
          "execution_count": 80,
          "metadata": {},
          "output_type": "execute_result"
        }
      ],
      "source": [
        "cheese"
      ]
    },
    {
      "cell_type": "code",
      "execution_count": null,
      "id": "2856be27-0c08-4b87-93de-fd804ce9032d",
      "metadata": {
        "id": "2856be27-0c08-4b87-93de-fd804ce9032d"
      },
      "outputs": [],
      "source": [
        "class Pizza:\n",
        "    def __init__(self, ingredients):\n",
        "        self.ingredients = ingredients\n",
        "\n",
        "    def __repr__(self):\n",
        "        return f'Pizza({self.ingredients})'\n",
        "\n",
        "    def create_custom_pizza(self, ingredients):\n",
        "        self.ingredients = ingredients\n",
        "        return self\n",
        "\n",
        "    @classmethod\n",
        "    def margherita(cls):\n",
        "        return cls(['mozzarella', 'tomatoes'])\n",
        "\n",
        "    @classmethod\n",
        "    def cheese(cls):\n",
        "        return cls(['mozzarella', 'provolone', 'cheddar', 'Parmesan'])"
      ]
    },
    {
      "cell_type": "code",
      "execution_count": null,
      "id": "0efffa5a-c804-4218-b6ae-552336337570",
      "metadata": {
        "id": "0efffa5a-c804-4218-b6ae-552336337570",
        "outputId": "322580c4-ee28-4b05-c301-bcb200692cfb"
      },
      "outputs": [
        {
          "data": {
            "text/plain": [
              "Pizza(['mozzarella', 'tomatoes'])"
            ]
          },
          "execution_count": 82,
          "metadata": {},
          "output_type": "execute_result"
        }
      ],
      "source": [
        "Pizza.margherita()"
      ]
    },
    {
      "cell_type": "code",
      "execution_count": null,
      "id": "f46dafc9-c125-4571-b418-044eff982b68",
      "metadata": {
        "id": "f46dafc9-c125-4571-b418-044eff982b68",
        "outputId": "ad1cf828-f2a3-4147-d6b6-164c7fa91202"
      },
      "outputs": [
        {
          "data": {
            "text/plain": [
              "Pizza(['mozzarella', 'provolone', 'cheddar', 'Parmesan'])"
            ]
          },
          "execution_count": 83,
          "metadata": {},
          "output_type": "execute_result"
        }
      ],
      "source": [
        "Pizza.cheese()"
      ]
    },
    {
      "cell_type": "code",
      "execution_count": null,
      "id": "8e4b6894-f33e-48fb-8a03-704ee7fd006b",
      "metadata": {
        "id": "8e4b6894-f33e-48fb-8a03-704ee7fd006b"
      },
      "outputs": [],
      "source": [
        "first_pizza = Pizza([])"
      ]
    },
    {
      "cell_type": "code",
      "execution_count": null,
      "id": "c744f33f-3e55-4a2e-9800-75de111776c1",
      "metadata": {
        "id": "c744f33f-3e55-4a2e-9800-75de111776c1",
        "outputId": "59b19d87-58c0-410f-bdf9-4907befaeb81"
      },
      "outputs": [
        {
          "data": {
            "text/plain": [
              "[]"
            ]
          },
          "execution_count": 85,
          "metadata": {},
          "output_type": "execute_result"
        }
      ],
      "source": [
        "first_pizza.ingredients"
      ]
    },
    {
      "cell_type": "code",
      "execution_count": null,
      "id": "f31c278e-b114-47b7-8075-b42a74585075",
      "metadata": {
        "id": "f31c278e-b114-47b7-8075-b42a74585075",
        "outputId": "23551464-1c5f-45de-cfd5-3f638be5c5ea"
      },
      "outputs": [
        {
          "data": {
            "text/plain": [
              "Pizza(['chicken', 'mozzarella'])"
            ]
          },
          "execution_count": 86,
          "metadata": {},
          "output_type": "execute_result"
        }
      ],
      "source": [
        "first_pizza.create_custom_pizza(['chicken', 'mozzarella'])"
      ]
    },
    {
      "cell_type": "code",
      "execution_count": null,
      "id": "4097f3d9-7fae-4c67-b6f1-30b3aadd5956",
      "metadata": {
        "id": "4097f3d9-7fae-4c67-b6f1-30b3aadd5956",
        "outputId": "822ec7d5-e8d5-4e4e-e914-150c719dd430"
      },
      "outputs": [
        {
          "data": {
            "text/plain": [
              "Pizza(['mozzarella', 'tomatoes'])"
            ]
          },
          "execution_count": 87,
          "metadata": {},
          "output_type": "execute_result"
        }
      ],
      "source": [
        "# Podemos mostrar los metodos de clase asociados a la clase Pizza sin cambiar el comportamiento de la instancia\n",
        "first_pizza.margherita()"
      ]
    },
    {
      "cell_type": "code",
      "execution_count": null,
      "id": "ffad901d-fd1d-4ef4-83c6-a5acca1efb95",
      "metadata": {
        "id": "ffad901d-fd1d-4ef4-83c6-a5acca1efb95",
        "outputId": "23773bf7-1588-4236-b620-b07b50616725"
      },
      "outputs": [
        {
          "data": {
            "text/plain": [
              "['chicken', 'mozzarella']"
            ]
          },
          "execution_count": 88,
          "metadata": {},
          "output_type": "execute_result"
        }
      ],
      "source": [
        "first_pizza.ingredients"
      ]
    },
    {
      "cell_type": "code",
      "execution_count": null,
      "id": "713b7abf-743d-4e04-98b6-a0ddf2fd4c51",
      "metadata": {
        "id": "713b7abf-743d-4e04-98b6-a0ddf2fd4c51"
      },
      "outputs": [],
      "source": [
        "# Usando metodos estáticos\n",
        "import math\n",
        "\n",
        "class Pizza:\n",
        "    def __init__(self, radius, ingredients):\n",
        "        self.radius = radius\n",
        "        self.ingredients = ingredients\n",
        "\n",
        "    def __repr__(self):\n",
        "        return (f'Pizza({self.radius}, '\n",
        "                f'{self.ingredients})')\n",
        "\n",
        "    def area(self):\n",
        "        return self.circle_area(self.radius)\n",
        "\n",
        "    @staticmethod\n",
        "    def circle_area(r):\n",
        "        return r ** 2 * math.pi"
      ]
    },
    {
      "cell_type": "code",
      "execution_count": null,
      "id": "5a65b11b-c4ea-43b5-a1a0-072d5a157bf1",
      "metadata": {
        "id": "5a65b11b-c4ea-43b5-a1a0-072d5a157bf1"
      },
      "outputs": [],
      "source": [
        "p = Pizza(4, ['mozzarella', 'tomatoes'])"
      ]
    },
    {
      "cell_type": "code",
      "execution_count": null,
      "id": "2ba20bad-b61f-45cd-9b06-6ad3463bcfa8",
      "metadata": {
        "id": "2ba20bad-b61f-45cd-9b06-6ad3463bcfa8",
        "outputId": "8f72121a-3e5d-4ec7-f345-b1dcc46c3cd2"
      },
      "outputs": [
        {
          "data": {
            "text/plain": [
              "50.26548245743669"
            ]
          },
          "execution_count": 91,
          "metadata": {},
          "output_type": "execute_result"
        }
      ],
      "source": [
        "p.area()"
      ]
    },
    {
      "cell_type": "code",
      "execution_count": null,
      "id": "d6a8fa9c-aa5f-4329-8509-7babfee6ea3c",
      "metadata": {
        "id": "d6a8fa9c-aa5f-4329-8509-7babfee6ea3c",
        "outputId": "2b287583-715a-4c5c-b7fa-00dab612976a"
      },
      "outputs": [
        {
          "data": {
            "text/plain": [
              "50.26548245743669"
            ]
          },
          "execution_count": 92,
          "metadata": {},
          "output_type": "execute_result"
        }
      ],
      "source": [
        "Pizza.circle_area(4)"
      ]
    },
    {
      "cell_type": "code",
      "execution_count": null,
      "id": "f20cdbca-5b67-4aad-88de-2500d1a727b8",
      "metadata": {
        "id": "f20cdbca-5b67-4aad-88de-2500d1a727b8",
        "outputId": "cc7cd6b6-2368-4be1-fd48-8c0077573eac"
      },
      "outputs": [
        {
          "data": {
            "text/plain": [
              "78.53981633974483"
            ]
          },
          "execution_count": 93,
          "metadata": {},
          "output_type": "execute_result"
        }
      ],
      "source": [
        "Pizza.circle_area(5)"
      ]
    },
    {
      "cell_type": "code",
      "execution_count": null,
      "id": "4f9ed85b-7b0b-40e3-b18a-9379fea74edd",
      "metadata": {
        "id": "4f9ed85b-7b0b-40e3-b18a-9379fea74edd",
        "outputId": "6a79a87d-6a55-4b95-dec6-97fa6a5670a9"
      },
      "outputs": [
        {
          "data": {
            "text/plain": [
              "50.26548245743669"
            ]
          },
          "execution_count": 94,
          "metadata": {},
          "output_type": "execute_result"
        }
      ],
      "source": [
        "p.area()"
      ]
    },
    {
      "cell_type": "code",
      "execution_count": null,
      "id": "8d3a0140-ef95-4c10-832a-ee0d086150f1",
      "metadata": {
        "id": "8d3a0140-ef95-4c10-832a-ee0d086150f1"
      },
      "outputs": [],
      "source": []
    }
  ],
  "metadata": {
    "kernelspec": {
      "display_name": "Python 3 (ipykernel)",
      "language": "python",
      "name": "python3"
    },
    "language_info": {
      "codemirror_mode": {
        "name": "ipython",
        "version": 3
      },
      "file_extension": ".py",
      "mimetype": "text/x-python",
      "name": "python",
      "nbconvert_exporter": "python",
      "pygments_lexer": "ipython3",
      "version": "3.11.4"
    },
    "colab": {
      "provenance": []
    }
  },
  "nbformat": 4,
  "nbformat_minor": 5
}